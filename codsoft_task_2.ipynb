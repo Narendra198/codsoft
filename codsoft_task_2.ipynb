{
  "nbformat": 4,
  "nbformat_minor": 0,
  "metadata": {
    "colab": {
      "provenance": [],
      "authorship_tag": "ABX9TyOWKeMzAeRlILrP3wjoiVm3",
      "include_colab_link": true
    },
    "kernelspec": {
      "name": "python3",
      "display_name": "Python 3"
    },
    "language_info": {
      "name": "python"
    }
  },
  "cells": [
    {
      "cell_type": "markdown",
      "metadata": {
        "id": "view-in-github",
        "colab_type": "text"
      },
      "source": [
        "<a href=\"https://colab.research.google.com/github/Narendra198/codsoft/blob/main/codsoft_task_2.ipynb\" target=\"_parent\"><img src=\"https://colab.research.google.com/assets/colab-badge.svg\" alt=\"Open In Colab\"/></a>"
      ]
    },
    {
      "cell_type": "code",
      "execution_count": null,
      "metadata": {
        "id": "W7tH14rR4BsT"
      },
      "outputs": [],
      "source": [
        "import javax.swing.*;\n",
        "import java.awt.event.*;\n",
        "\n",
        "public class GradeCalculator extends JFrame implements ActionListener {\n",
        "    JLabel[] labels;\n",
        "    JTextField[] textFields;\n",
        "    JButton calculateButton;\n",
        "\n",
        "    public GradeCalculator() {\n",
        "        labels = new JLabel[5];\n",
        "        textFields = new JTextField[5];\n",
        "\n",
        "        String[] subjects = {\"Subject 1\", \"Subject 2\", \"Subject 3\", \"Subject 4\", \"Subject 5\"};\n",
        "\n",
        "        for (int i = 0; i < 5; i++) {\n",
        "            labels[i] = new JLabel(subjects[i]);\n",
        "            textFields[i] = new JTextField();\n",
        "            labels[i].setBounds(50, 50 + i * 50, 100, 30);\n",
        "            textFields[i].setBounds(160, 50 + i * 50, 100, 30);\n",
        "            add(labels[i]);\n",
        "            add(textFields[i]);\n",
        "        }\n",
        "\n",
        "        calculateButton = new JButton(\"Calculate\");\n",
        "        calculateButton.setBounds(100, 300, 100, 30);\n",
        "        calculateButton.addActionListener(this);\n",
        "        add(calculateButton);\n",
        "\n",
        "        setTitle(\"Student Grade Calculator\");\n",
        "        setSize(300, 400);\n",
        "        setLayout(null);\n",
        "        setVisible(true);\n",
        "        setDefaultCloseOperation(JFrame.EXIT_ON_CLOSE);\n",
        "    }\n",
        "\n",
        "    @Override\n",
        "    public void actionPerformed(ActionEvent e) {\n",
        "        if (e.getSource() == calculateButton) {\n",
        "            int totalMarks = 0;\n",
        "            int numSubjects = 0;\n",
        "\n",
        "            for (int i = 0; i < 5; i++) {\n",
        "                String marksText = textFields[i].getText();\n",
        "                if (!marksText.isEmpty()) {\n",
        "                    int marks = Integer.parseInt(marksText);\n",
        "                    totalMarks += marks;\n",
        "                    numSubjects++;\n",
        "                }\n",
        "            }\n",
        "\n",
        "            double averagePercentage = (double) totalMarks / (numSubjects * 100) * 100;\n",
        "            String grade = calculateGrade(averagePercentage);\n",
        "\n",
        "            JOptionPane.showMessageDialog(this, \"Total Marks: \" + totalMarks +\n",
        "                    \"\\nAverage Percentage: \" + averagePercentage + \"%\" +\n",
        "                    \"\\nGrade: \" + grade);\n",
        "        }\n",
        "    }\n",
        "\n",
        "    private String calculateGrade(double percentage) {\n",
        "        if (percentage >= 90) {\n",
        "            return \"A+\";\n",
        "        } else if (percentage >= 80) {\n",
        "            return \"A\";\n",
        "        } else if (percentage >= 70) {\n",
        "            return \"B\";\n",
        "        } else if (percentage >= 60) {\n",
        "            return \"C\";\n",
        "        } else if (percentage >= 50) {\n",
        "            return \"D\";\n",
        "        } else {\n",
        "            return \"F\";\n",
        "        }\n",
        "    }\n",
        "\n",
        "    public static void main(String[] args) {\n",
        "        new GradeCalculator();\n",
        "    }\n",
        "}"
      ]
    }
  ]
}