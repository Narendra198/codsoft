{
  "nbformat": 4,
  "nbformat_minor": 0,
  "metadata": {
    "colab": {
      "provenance": [],
      "authorship_tag": "ABX9TyOXyu9i5Fzbmb53U8TUIB4r",
      "include_colab_link": true
    },
    "kernelspec": {
      "name": "python3",
      "display_name": "Python 3"
    },
    "language_info": {
      "name": "python"
    }
  },
  "cells": [
    {
      "cell_type": "markdown",
      "metadata": {
        "id": "view-in-github",
        "colab_type": "text"
      },
      "source": [
        "<a href=\"https://colab.research.google.com/github/Narendra198/codsoft/blob/main/codsoft_task_1.ipynb\" target=\"_parent\"><img src=\"https://colab.research.google.com/assets/colab-badge.svg\" alt=\"Open In Colab\"/></a>"
      ]
    },
    {
      "cell_type": "code",
      "execution_count": null,
      "metadata": {
        "id": "lc4MbnSp0KIG"
      },
      "outputs": [],
      "source": [
        "import javax.swing.*;\n",
        "import java.awt.*;\n",
        "import java.awt.event.ActionEvent;\n",
        "import java.awt.event.ActionListener;\n",
        "import java.util.Random;\n",
        "\n",
        "public class NumberGameGUI {\n",
        "    private JFrame frame;\n",
        "    private JLabel label;\n",
        "    private JTextField textField;\n",
        "    private JButton submitButton;\n",
        "    private int targetNumber;\n",
        "    private int attempts;\n",
        "    private int maxAttempts;\n",
        "    private int score;\n",
        "\n",
        "    public NumberGameGUI() {\n",
        "        frame = new JFrame(\"Number Game\");\n",
        "        label = new JLabel(\"Enter your guess:\");\n",
        "        textField = new JTextField(10);\n",
        "        submitButton = new JButton(\"Submit\");\n",
        "        targetNumber = generateRandomNumber();\n",
        "        maxAttempts = 5;\n",
        "        attempts = 0;\n",
        "        score = 0;\n",
        "\n",
        "        submitButton.addActionListener(new ActionListener() {\n",
        "            public void actionPerformed(ActionEvent e) {\n",
        "                checkGuess();\n",
        "            }\n",
        "        });\n",
        "\n",
        "        frame.setLayout(new FlowLayout());\n",
        "        frame.add(label);\n",
        "        frame.add(textField);\n",
        "        frame.add(submitButton);\n",
        "        frame.setDefaultCloseOperation(JFrame.EXIT_ON_CLOSE);\n",
        "        frame.setSize(300, 150);\n",
        "        frame.setVisible(true);\n",
        "    }\n",
        "\n",
        "    private int generateRandomNumber() {\n",
        "        Random random = new Random();\n",
        "        return random.nextInt(100) + 1;\n",
        "    }\n",
        "\n",
        "    private void checkGuess() {\n",
        "        int userGuess = Integer.parseInt(textField.getText());\n",
        "        attempts++;\n",
        "\n",
        "        if (userGuess == targetNumber) {\n",
        "            JOptionPane.showMessageDialog(frame, \"Congratulations! You guessed the correct number.\");\n",
        "            score++;\n",
        "        } else if (attempts < maxAttempts) {\n",
        "            String message = (userGuess < targetNumber) ? \"Too low! Try a higher number.\" : \"Too high! Try a lower number.\";\n",
        "            JOptionPane.showMessageDialog(frame, message);\n",
        "        } else {\n",
        "            JOptionPane.showMessageDialog(frame, \"Sorry! You've used all your attempts. The correct number was \" + targetNumber);\n",
        "        }\n",
        "\n",
        "        if (attempts < maxAttempts) {\n",
        "            targetNumber = generateRandomNumber();\n",
        "            textField.setText(\"\");\n",
        "        } else {\n",
        "            showScore();\n",
        "        }\n",
        "    }\n",
        "\n",
        "    private void showScore() {\n",
        "        JOptionPane.showMessageDialog(frame, \"Your final score is: \" + score);\n",
        "        frame.dispose();\n",
        "    }\n",
        "\n",
        "    public static void main(String[] args) {\n",
        "        new NumberGameGUI();\n",
        "    }\n",
        "}"
      ]
    }
  ]
}